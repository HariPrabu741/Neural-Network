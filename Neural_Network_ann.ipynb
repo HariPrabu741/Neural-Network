{
  "nbformat": 4,
  "nbformat_minor": 0,
  "metadata": {
    "colab": {
      "name": "Neural_Network_ann.ipynb",
      "provenance": [],
      "collapsed_sections": []
    },
    "kernelspec": {
      "name": "python3",
      "display_name": "Python 3"
    },
    "language_info": {
      "name": "python"
    }
  },
  "cells": [
    {
      "cell_type": "code",
      "metadata": {
        "id": "bgs6JOJNVEux"
      },
      "source": [
        "import numpy as np\n",
        "import pandas as pd\n",
        "import matplotlib.pyplot as plt\n",
        "from sklearn.model_selection import train_test_split\n",
        "from sklearn.preprocessing import LabelEncoder"
      ],
      "execution_count": 99,
      "outputs": []
    },
    {
      "cell_type": "code",
      "metadata": {
        "colab": {
          "base_uri": "https://localhost:8080/",
          "height": 204
        },
        "id": "KovJ2HJYVuAK",
        "outputId": "ee3c2fe8-fb17-4031-c6da-162e5f54b255"
      },
      "source": [
        "df=pd.read_csv(\"/content/Churn_Modelling.csv\")\n",
        "df.head()"
      ],
      "execution_count": 100,
      "outputs": [
        {
          "output_type": "execute_result",
          "data": {
            "text/html": [
              "<div>\n",
              "<style scoped>\n",
              "    .dataframe tbody tr th:only-of-type {\n",
              "        vertical-align: middle;\n",
              "    }\n",
              "\n",
              "    .dataframe tbody tr th {\n",
              "        vertical-align: top;\n",
              "    }\n",
              "\n",
              "    .dataframe thead th {\n",
              "        text-align: right;\n",
              "    }\n",
              "</style>\n",
              "<table border=\"1\" class=\"dataframe\">\n",
              "  <thead>\n",
              "    <tr style=\"text-align: right;\">\n",
              "      <th></th>\n",
              "      <th>RowNumber</th>\n",
              "      <th>CustomerId</th>\n",
              "      <th>Surname</th>\n",
              "      <th>CreditScore</th>\n",
              "      <th>Geography</th>\n",
              "      <th>Gender</th>\n",
              "      <th>Age</th>\n",
              "      <th>Tenure</th>\n",
              "      <th>Balance</th>\n",
              "      <th>NumOfProducts</th>\n",
              "      <th>HasCrCard</th>\n",
              "      <th>IsActiveMember</th>\n",
              "      <th>EstimatedSalary</th>\n",
              "      <th>Exited</th>\n",
              "    </tr>\n",
              "  </thead>\n",
              "  <tbody>\n",
              "    <tr>\n",
              "      <th>0</th>\n",
              "      <td>1</td>\n",
              "      <td>15634602</td>\n",
              "      <td>Hargrave</td>\n",
              "      <td>619</td>\n",
              "      <td>France</td>\n",
              "      <td>Female</td>\n",
              "      <td>42</td>\n",
              "      <td>2</td>\n",
              "      <td>0.00</td>\n",
              "      <td>1</td>\n",
              "      <td>1</td>\n",
              "      <td>1</td>\n",
              "      <td>101348.88</td>\n",
              "      <td>1</td>\n",
              "    </tr>\n",
              "    <tr>\n",
              "      <th>1</th>\n",
              "      <td>2</td>\n",
              "      <td>15647311</td>\n",
              "      <td>Hill</td>\n",
              "      <td>608</td>\n",
              "      <td>Spain</td>\n",
              "      <td>Female</td>\n",
              "      <td>41</td>\n",
              "      <td>1</td>\n",
              "      <td>83807.86</td>\n",
              "      <td>1</td>\n",
              "      <td>0</td>\n",
              "      <td>1</td>\n",
              "      <td>112542.58</td>\n",
              "      <td>0</td>\n",
              "    </tr>\n",
              "    <tr>\n",
              "      <th>2</th>\n",
              "      <td>3</td>\n",
              "      <td>15619304</td>\n",
              "      <td>Onio</td>\n",
              "      <td>502</td>\n",
              "      <td>France</td>\n",
              "      <td>Female</td>\n",
              "      <td>42</td>\n",
              "      <td>8</td>\n",
              "      <td>159660.80</td>\n",
              "      <td>3</td>\n",
              "      <td>1</td>\n",
              "      <td>0</td>\n",
              "      <td>113931.57</td>\n",
              "      <td>1</td>\n",
              "    </tr>\n",
              "    <tr>\n",
              "      <th>3</th>\n",
              "      <td>4</td>\n",
              "      <td>15701354</td>\n",
              "      <td>Boni</td>\n",
              "      <td>699</td>\n",
              "      <td>France</td>\n",
              "      <td>Female</td>\n",
              "      <td>39</td>\n",
              "      <td>1</td>\n",
              "      <td>0.00</td>\n",
              "      <td>2</td>\n",
              "      <td>0</td>\n",
              "      <td>0</td>\n",
              "      <td>93826.63</td>\n",
              "      <td>0</td>\n",
              "    </tr>\n",
              "    <tr>\n",
              "      <th>4</th>\n",
              "      <td>5</td>\n",
              "      <td>15737888</td>\n",
              "      <td>Mitchell</td>\n",
              "      <td>850</td>\n",
              "      <td>Spain</td>\n",
              "      <td>Female</td>\n",
              "      <td>43</td>\n",
              "      <td>2</td>\n",
              "      <td>125510.82</td>\n",
              "      <td>1</td>\n",
              "      <td>1</td>\n",
              "      <td>1</td>\n",
              "      <td>79084.10</td>\n",
              "      <td>0</td>\n",
              "    </tr>\n",
              "  </tbody>\n",
              "</table>\n",
              "</div>"
            ],
            "text/plain": [
              "   RowNumber  CustomerId   Surname  ...  IsActiveMember EstimatedSalary Exited\n",
              "0          1    15634602  Hargrave  ...               1       101348.88      1\n",
              "1          2    15647311      Hill  ...               1       112542.58      0\n",
              "2          3    15619304      Onio  ...               0       113931.57      1\n",
              "3          4    15701354      Boni  ...               0        93826.63      0\n",
              "4          5    15737888  Mitchell  ...               1        79084.10      0\n",
              "\n",
              "[5 rows x 14 columns]"
            ]
          },
          "metadata": {
            "tags": []
          },
          "execution_count": 100
        }
      ]
    },
    {
      "cell_type": "code",
      "metadata": {
        "colab": {
          "base_uri": "https://localhost:8080/"
        },
        "id": "sDhOg50qV2cr",
        "outputId": "6c3dbda3-a551-4cbc-9dfc-b7530d24ba72"
      },
      "source": [
        "df.shape"
      ],
      "execution_count": 101,
      "outputs": [
        {
          "output_type": "execute_result",
          "data": {
            "text/plain": [
              "(10000, 14)"
            ]
          },
          "metadata": {
            "tags": []
          },
          "execution_count": 101
        }
      ]
    },
    {
      "cell_type": "code",
      "metadata": {
        "id": "gwat45JtWGAU"
      },
      "source": [
        "# Unwanted columns are dropped ['RowNumber','CustomerId','Surname']\n",
        "df.drop(['RowNumber','CustomerId','Surname'],axis=1,inplace=True)"
      ],
      "execution_count": 102,
      "outputs": []
    },
    {
      "cell_type": "code",
      "metadata": {
        "colab": {
          "base_uri": "https://localhost:8080/",
          "height": 141
        },
        "id": "XGFi5xwsWfAx",
        "outputId": "ba031df6-39da-47f4-9076-95cae50260b2"
      },
      "source": [
        "df.head(3)"
      ],
      "execution_count": 103,
      "outputs": [
        {
          "output_type": "execute_result",
          "data": {
            "text/html": [
              "<div>\n",
              "<style scoped>\n",
              "    .dataframe tbody tr th:only-of-type {\n",
              "        vertical-align: middle;\n",
              "    }\n",
              "\n",
              "    .dataframe tbody tr th {\n",
              "        vertical-align: top;\n",
              "    }\n",
              "\n",
              "    .dataframe thead th {\n",
              "        text-align: right;\n",
              "    }\n",
              "</style>\n",
              "<table border=\"1\" class=\"dataframe\">\n",
              "  <thead>\n",
              "    <tr style=\"text-align: right;\">\n",
              "      <th></th>\n",
              "      <th>CreditScore</th>\n",
              "      <th>Geography</th>\n",
              "      <th>Gender</th>\n",
              "      <th>Age</th>\n",
              "      <th>Tenure</th>\n",
              "      <th>Balance</th>\n",
              "      <th>NumOfProducts</th>\n",
              "      <th>HasCrCard</th>\n",
              "      <th>IsActiveMember</th>\n",
              "      <th>EstimatedSalary</th>\n",
              "      <th>Exited</th>\n",
              "    </tr>\n",
              "  </thead>\n",
              "  <tbody>\n",
              "    <tr>\n",
              "      <th>0</th>\n",
              "      <td>619</td>\n",
              "      <td>France</td>\n",
              "      <td>Female</td>\n",
              "      <td>42</td>\n",
              "      <td>2</td>\n",
              "      <td>0.00</td>\n",
              "      <td>1</td>\n",
              "      <td>1</td>\n",
              "      <td>1</td>\n",
              "      <td>101348.88</td>\n",
              "      <td>1</td>\n",
              "    </tr>\n",
              "    <tr>\n",
              "      <th>1</th>\n",
              "      <td>608</td>\n",
              "      <td>Spain</td>\n",
              "      <td>Female</td>\n",
              "      <td>41</td>\n",
              "      <td>1</td>\n",
              "      <td>83807.86</td>\n",
              "      <td>1</td>\n",
              "      <td>0</td>\n",
              "      <td>1</td>\n",
              "      <td>112542.58</td>\n",
              "      <td>0</td>\n",
              "    </tr>\n",
              "    <tr>\n",
              "      <th>2</th>\n",
              "      <td>502</td>\n",
              "      <td>France</td>\n",
              "      <td>Female</td>\n",
              "      <td>42</td>\n",
              "      <td>8</td>\n",
              "      <td>159660.80</td>\n",
              "      <td>3</td>\n",
              "      <td>1</td>\n",
              "      <td>0</td>\n",
              "      <td>113931.57</td>\n",
              "      <td>1</td>\n",
              "    </tr>\n",
              "  </tbody>\n",
              "</table>\n",
              "</div>"
            ],
            "text/plain": [
              "   CreditScore Geography  Gender  ...  IsActiveMember  EstimatedSalary  Exited\n",
              "0          619    France  Female  ...               1        101348.88       1\n",
              "1          608     Spain  Female  ...               1        112542.58       0\n",
              "2          502    France  Female  ...               0        113931.57       1\n",
              "\n",
              "[3 rows x 11 columns]"
            ]
          },
          "metadata": {
            "tags": []
          },
          "execution_count": 103
        }
      ]
    },
    {
      "cell_type": "code",
      "metadata": {
        "colab": {
          "base_uri": "https://localhost:8080/"
        },
        "id": "q5xDTrNdV7WN",
        "outputId": "1a0e6b85-1219-4d26-9dc1-76cf2210e2b4"
      },
      "source": [
        "df.info()"
      ],
      "execution_count": 104,
      "outputs": [
        {
          "output_type": "stream",
          "text": [
            "<class 'pandas.core.frame.DataFrame'>\n",
            "RangeIndex: 10000 entries, 0 to 9999\n",
            "Data columns (total 11 columns):\n",
            " #   Column           Non-Null Count  Dtype  \n",
            "---  ------           --------------  -----  \n",
            " 0   CreditScore      10000 non-null  int64  \n",
            " 1   Geography        10000 non-null  object \n",
            " 2   Gender           10000 non-null  object \n",
            " 3   Age              10000 non-null  int64  \n",
            " 4   Tenure           10000 non-null  int64  \n",
            " 5   Balance          10000 non-null  float64\n",
            " 6   NumOfProducts    10000 non-null  int64  \n",
            " 7   HasCrCard        10000 non-null  int64  \n",
            " 8   IsActiveMember   10000 non-null  int64  \n",
            " 9   EstimatedSalary  10000 non-null  float64\n",
            " 10  Exited           10000 non-null  int64  \n",
            "dtypes: float64(2), int64(7), object(2)\n",
            "memory usage: 859.5+ KB\n"
          ],
          "name": "stdout"
        }
      ]
    },
    {
      "cell_type": "code",
      "metadata": {
        "colab": {
          "base_uri": "https://localhost:8080/"
        },
        "id": "0BGJR3wlWAZp",
        "outputId": "8a7890fa-8a3a-414a-b9df-868fd6ee7bfc"
      },
      "source": [
        "# Converting object datatype to int by labelencider\n",
        "df.Gender.unique(),df.Geography.unique()"
      ],
      "execution_count": 105,
      "outputs": [
        {
          "output_type": "execute_result",
          "data": {
            "text/plain": [
              "(array(['Female', 'Male'], dtype=object),\n",
              " array(['France', 'Spain', 'Germany'], dtype=object))"
            ]
          },
          "metadata": {
            "tags": []
          },
          "execution_count": 105
        }
      ]
    },
    {
      "cell_type": "code",
      "metadata": {
        "id": "s8GRTAN-XtKP"
      },
      "source": [
        "label_en=LabelEncoder()"
      ],
      "execution_count": 106,
      "outputs": []
    },
    {
      "cell_type": "code",
      "metadata": {
        "id": "yG9tTJ8hXK55"
      },
      "source": [
        "\n",
        "def encoding(df,features):\n",
        "  df[features]=label_en.fit_transform(df[features])"
      ],
      "execution_count": 107,
      "outputs": []
    },
    {
      "cell_type": "code",
      "metadata": {
        "colab": {
          "base_uri": "https://localhost:8080/"
        },
        "id": "BGMBwaxTX-KZ",
        "outputId": "4db0ca88-4722-4e07-ae1b-84a9ee34b422"
      },
      "source": [
        "encoding(df,'Gender')\n",
        "encoding(df,'Geography')\n",
        "df.Gender.unique(),df.Geography.unique()"
      ],
      "execution_count": 108,
      "outputs": [
        {
          "output_type": "execute_result",
          "data": {
            "text/plain": [
              "(array([0, 1]), array([0, 2, 1]))"
            ]
          },
          "metadata": {
            "tags": []
          },
          "execution_count": 108
        }
      ]
    },
    {
      "cell_type": "code",
      "metadata": {
        "colab": {
          "base_uri": "https://localhost:8080/"
        },
        "id": "0pG1SkXDYIij",
        "outputId": "a2ee15ce-aec7-4077-f603-ab6b4e4917dd"
      },
      "source": [
        "df.info()"
      ],
      "execution_count": 109,
      "outputs": [
        {
          "output_type": "stream",
          "text": [
            "<class 'pandas.core.frame.DataFrame'>\n",
            "RangeIndex: 10000 entries, 0 to 9999\n",
            "Data columns (total 11 columns):\n",
            " #   Column           Non-Null Count  Dtype  \n",
            "---  ------           --------------  -----  \n",
            " 0   CreditScore      10000 non-null  int64  \n",
            " 1   Geography        10000 non-null  int64  \n",
            " 2   Gender           10000 non-null  int64  \n",
            " 3   Age              10000 non-null  int64  \n",
            " 4   Tenure           10000 non-null  int64  \n",
            " 5   Balance          10000 non-null  float64\n",
            " 6   NumOfProducts    10000 non-null  int64  \n",
            " 7   HasCrCard        10000 non-null  int64  \n",
            " 8   IsActiveMember   10000 non-null  int64  \n",
            " 9   EstimatedSalary  10000 non-null  float64\n",
            " 10  Exited           10000 non-null  int64  \n",
            "dtypes: float64(2), int64(9)\n",
            "memory usage: 859.5 KB\n"
          ],
          "name": "stdout"
        }
      ]
    },
    {
      "cell_type": "code",
      "metadata": {
        "id": "K-ZH8DKkYyoz"
      },
      "source": [
        "X=df.iloc[:,:10]\n",
        "y=df.Exited       "
      ],
      "execution_count": 110,
      "outputs": []
    },
    {
      "cell_type": "code",
      "metadata": {
        "colab": {
          "base_uri": "https://localhost:8080/",
          "height": 204
        },
        "id": "_rKsitBFaXAg",
        "outputId": "46330a0f-1ccf-419e-ee9a-a2fb53a7edd2"
      },
      "source": [
        "X.head()"
      ],
      "execution_count": 111,
      "outputs": [
        {
          "output_type": "execute_result",
          "data": {
            "text/html": [
              "<div>\n",
              "<style scoped>\n",
              "    .dataframe tbody tr th:only-of-type {\n",
              "        vertical-align: middle;\n",
              "    }\n",
              "\n",
              "    .dataframe tbody tr th {\n",
              "        vertical-align: top;\n",
              "    }\n",
              "\n",
              "    .dataframe thead th {\n",
              "        text-align: right;\n",
              "    }\n",
              "</style>\n",
              "<table border=\"1\" class=\"dataframe\">\n",
              "  <thead>\n",
              "    <tr style=\"text-align: right;\">\n",
              "      <th></th>\n",
              "      <th>CreditScore</th>\n",
              "      <th>Geography</th>\n",
              "      <th>Gender</th>\n",
              "      <th>Age</th>\n",
              "      <th>Tenure</th>\n",
              "      <th>Balance</th>\n",
              "      <th>NumOfProducts</th>\n",
              "      <th>HasCrCard</th>\n",
              "      <th>IsActiveMember</th>\n",
              "      <th>EstimatedSalary</th>\n",
              "    </tr>\n",
              "  </thead>\n",
              "  <tbody>\n",
              "    <tr>\n",
              "      <th>0</th>\n",
              "      <td>619</td>\n",
              "      <td>0</td>\n",
              "      <td>0</td>\n",
              "      <td>42</td>\n",
              "      <td>2</td>\n",
              "      <td>0.00</td>\n",
              "      <td>1</td>\n",
              "      <td>1</td>\n",
              "      <td>1</td>\n",
              "      <td>101348.88</td>\n",
              "    </tr>\n",
              "    <tr>\n",
              "      <th>1</th>\n",
              "      <td>608</td>\n",
              "      <td>2</td>\n",
              "      <td>0</td>\n",
              "      <td>41</td>\n",
              "      <td>1</td>\n",
              "      <td>83807.86</td>\n",
              "      <td>1</td>\n",
              "      <td>0</td>\n",
              "      <td>1</td>\n",
              "      <td>112542.58</td>\n",
              "    </tr>\n",
              "    <tr>\n",
              "      <th>2</th>\n",
              "      <td>502</td>\n",
              "      <td>0</td>\n",
              "      <td>0</td>\n",
              "      <td>42</td>\n",
              "      <td>8</td>\n",
              "      <td>159660.80</td>\n",
              "      <td>3</td>\n",
              "      <td>1</td>\n",
              "      <td>0</td>\n",
              "      <td>113931.57</td>\n",
              "    </tr>\n",
              "    <tr>\n",
              "      <th>3</th>\n",
              "      <td>699</td>\n",
              "      <td>0</td>\n",
              "      <td>0</td>\n",
              "      <td>39</td>\n",
              "      <td>1</td>\n",
              "      <td>0.00</td>\n",
              "      <td>2</td>\n",
              "      <td>0</td>\n",
              "      <td>0</td>\n",
              "      <td>93826.63</td>\n",
              "    </tr>\n",
              "    <tr>\n",
              "      <th>4</th>\n",
              "      <td>850</td>\n",
              "      <td>2</td>\n",
              "      <td>0</td>\n",
              "      <td>43</td>\n",
              "      <td>2</td>\n",
              "      <td>125510.82</td>\n",
              "      <td>1</td>\n",
              "      <td>1</td>\n",
              "      <td>1</td>\n",
              "      <td>79084.10</td>\n",
              "    </tr>\n",
              "  </tbody>\n",
              "</table>\n",
              "</div>"
            ],
            "text/plain": [
              "   CreditScore  Geography  Gender  ...  HasCrCard  IsActiveMember  EstimatedSalary\n",
              "0          619          0       0  ...          1               1        101348.88\n",
              "1          608          2       0  ...          0               1        112542.58\n",
              "2          502          0       0  ...          1               0        113931.57\n",
              "3          699          0       0  ...          0               0         93826.63\n",
              "4          850          2       0  ...          1               1         79084.10\n",
              "\n",
              "[5 rows x 10 columns]"
            ]
          },
          "metadata": {
            "tags": []
          },
          "execution_count": 111
        }
      ]
    },
    {
      "cell_type": "code",
      "metadata": {
        "colab": {
          "base_uri": "https://localhost:8080/"
        },
        "id": "A3byM6VPbCB3",
        "outputId": "c199d816-faa8-4286-bc24-158c018403bb"
      },
      "source": [
        "y.head()"
      ],
      "execution_count": 112,
      "outputs": [
        {
          "output_type": "execute_result",
          "data": {
            "text/plain": [
              "0    1\n",
              "1    0\n",
              "2    1\n",
              "3    0\n",
              "4    0\n",
              "Name: Exited, dtype: int64"
            ]
          },
          "metadata": {
            "tags": []
          },
          "execution_count": 112
        }
      ]
    },
    {
      "cell_type": "code",
      "metadata": {
        "id": "jR-aK0HhdO3l"
      },
      "source": [
        "X_train,X_test,y_train,y_test=train_test_split(X,y,test_size=0.30,random_state=10)"
      ],
      "execution_count": 113,
      "outputs": []
    },
    {
      "cell_type": "code",
      "metadata": {
        "colab": {
          "base_uri": "https://localhost:8080/"
        },
        "id": "h5Hb-I8fdlJ6",
        "outputId": "06651463-77a5-4a35-b5d8-f2e5b1f616f5"
      },
      "source": [
        "X_train.shape, X_test.shape"
      ],
      "execution_count": 114,
      "outputs": [
        {
          "output_type": "execute_result",
          "data": {
            "text/plain": [
              "((7000, 10), (3000, 10))"
            ]
          },
          "metadata": {
            "tags": []
          },
          "execution_count": 114
        }
      ]
    },
    {
      "cell_type": "code",
      "metadata": {
        "id": "FbIOF1g9lLdV"
      },
      "source": [
        "import tensorflow\n",
        "from tensorflow.keras.models import Sequential\n",
        "from tensorflow.keras.layers import Dense"
      ],
      "execution_count": 115,
      "outputs": []
    },
    {
      "cell_type": "code",
      "metadata": {
        "colab": {
          "base_uri": "https://localhost:8080/"
        },
        "id": "ZjhDKArzl68O",
        "outputId": "7aceecd3-53a7-4fa7-9774-fc2dee0a6e8e"
      },
      "source": [
        "model=Sequential()\n",
        "model.add(Dense(64,input_dim=10))\n",
        "model.add(Dense(32))\n",
        "model.add(Dense(1,activation='sigmoid'))\n",
        "model.summary()"
      ],
      "execution_count": 116,
      "outputs": [
        {
          "output_type": "stream",
          "text": [
            "Model: \"sequential_4\"\n",
            "_________________________________________________________________\n",
            "Layer (type)                 Output Shape              Param #   \n",
            "=================================================================\n",
            "dense_11 (Dense)             (None, 64)                704       \n",
            "_________________________________________________________________\n",
            "dense_12 (Dense)             (None, 32)                2080      \n",
            "_________________________________________________________________\n",
            "dense_13 (Dense)             (None, 1)                 33        \n",
            "=================================================================\n",
            "Total params: 2,817\n",
            "Trainable params: 2,817\n",
            "Non-trainable params: 0\n",
            "_________________________________________________________________\n"
          ],
          "name": "stdout"
        }
      ]
    },
    {
      "cell_type": "code",
      "metadata": {
        "id": "hAZKM9aHl9mw"
      },
      "source": [
        "model.compile(optimizer='adam', loss='binary_crossentropy', metrics=['accuracy'])"
      ],
      "execution_count": 117,
      "outputs": []
    },
    {
      "cell_type": "code",
      "metadata": {
        "colab": {
          "base_uri": "https://localhost:8080/"
        },
        "id": "-B2PRee3nlGR",
        "outputId": "7ef5a8ad-9e50-41a8-a3c2-8001ec7ff12b"
      },
      "source": [
        "history=model.fit(X_train,y_train,validation_data=(X_test,y_test),epochs=20)"
      ],
      "execution_count": 118,
      "outputs": [
        {
          "output_type": "stream",
          "text": [
            "Epoch 1/20\n",
            "219/219 [==============================] - 1s 3ms/step - loss: 645.4017 - accuracy: 0.6446 - val_loss: 566.4658 - val_accuracy: 0.7933\n",
            "Epoch 2/20\n",
            "219/219 [==============================] - 0s 2ms/step - loss: 384.1405 - accuracy: 0.6710 - val_loss: 283.3317 - val_accuracy: 0.7933\n",
            "Epoch 3/20\n",
            "219/219 [==============================] - 0s 2ms/step - loss: 421.8916 - accuracy: 0.6800 - val_loss: 244.0111 - val_accuracy: 0.7933\n",
            "Epoch 4/20\n",
            "219/219 [==============================] - 1s 2ms/step - loss: 371.4586 - accuracy: 0.6650 - val_loss: 144.6946 - val_accuracy: 0.7893\n",
            "Epoch 5/20\n",
            "219/219 [==============================] - 1s 2ms/step - loss: 443.6365 - accuracy: 0.6717 - val_loss: 631.1684 - val_accuracy: 0.3993\n",
            "Epoch 6/20\n",
            "219/219 [==============================] - 0s 2ms/step - loss: 386.2114 - accuracy: 0.6720 - val_loss: 576.7521 - val_accuracy: 0.7437\n",
            "Epoch 7/20\n",
            "219/219 [==============================] - 1s 2ms/step - loss: 321.9673 - accuracy: 0.6727 - val_loss: 536.3004 - val_accuracy: 0.2883\n",
            "Epoch 8/20\n",
            "219/219 [==============================] - 1s 2ms/step - loss: 359.5457 - accuracy: 0.6784 - val_loss: 68.2443 - val_accuracy: 0.6493\n",
            "Epoch 9/20\n",
            "219/219 [==============================] - 0s 2ms/step - loss: 357.3048 - accuracy: 0.6731 - val_loss: 211.0365 - val_accuracy: 0.7933\n",
            "Epoch 10/20\n",
            "219/219 [==============================] - 1s 2ms/step - loss: 283.0938 - accuracy: 0.6814 - val_loss: 168.1169 - val_accuracy: 0.6113\n",
            "Epoch 11/20\n",
            "219/219 [==============================] - 0s 2ms/step - loss: 277.3538 - accuracy: 0.6823 - val_loss: 147.8327 - val_accuracy: 0.6277\n",
            "Epoch 12/20\n",
            "219/219 [==============================] - 0s 2ms/step - loss: 229.9850 - accuracy: 0.6764 - val_loss: 722.7840 - val_accuracy: 0.7313\n",
            "Epoch 13/20\n",
            "219/219 [==============================] - 1s 2ms/step - loss: 288.5336 - accuracy: 0.6714 - val_loss: 461.4151 - val_accuracy: 0.7933\n",
            "Epoch 14/20\n",
            "219/219 [==============================] - 0s 2ms/step - loss: 327.8176 - accuracy: 0.6727 - val_loss: 131.2167 - val_accuracy: 0.6610\n",
            "Epoch 15/20\n",
            "219/219 [==============================] - 0s 2ms/step - loss: 262.2630 - accuracy: 0.6809 - val_loss: 488.0478 - val_accuracy: 0.6797\n",
            "Epoch 16/20\n",
            "219/219 [==============================] - 1s 2ms/step - loss: 339.9247 - accuracy: 0.6781 - val_loss: 507.6673 - val_accuracy: 0.4513\n",
            "Epoch 17/20\n",
            "219/219 [==============================] - 1s 2ms/step - loss: 263.1804 - accuracy: 0.6797 - val_loss: 489.8731 - val_accuracy: 0.7933\n",
            "Epoch 18/20\n",
            "219/219 [==============================] - 0s 2ms/step - loss: 231.8837 - accuracy: 0.6871 - val_loss: 355.8417 - val_accuracy: 0.7933\n",
            "Epoch 19/20\n",
            "219/219 [==============================] - 1s 2ms/step - loss: 289.8735 - accuracy: 0.6803 - val_loss: 45.0389 - val_accuracy: 0.6970\n",
            "Epoch 20/20\n",
            "219/219 [==============================] - 0s 2ms/step - loss: 215.9543 - accuracy: 0.6769 - val_loss: 153.1619 - val_accuracy: 0.7933\n"
          ],
          "name": "stdout"
        }
      ]
    },
    {
      "cell_type": "code",
      "metadata": {
        "colab": {
          "base_uri": "https://localhost:8080/",
          "height": 573
        },
        "id": "SOKLshAyqW40",
        "outputId": "6f01df84-e509-4885-82ab-b6f0828528ef"
      },
      "source": [
        "# Accuracy Plot\n",
        "\n",
        "plt.plot(history.history['accuracy'])\n",
        "plt.plot(history.history['val_accuracy'])\n",
        "plt.title('Model Accuracy')\n",
        "plt.xlabel('epoch')\n",
        "plt.ylabel('accuracy')\n",
        "plt.legend(['Train','Validation'],loc='upper left')\n",
        "plt.show()\n",
        "\n",
        "# Loss Plot\n",
        "\n",
        "plt.plot(history.history['loss'])\n",
        "plt.plot(history.history['val_loss'])\n",
        "plt.title('Model Loss')\n",
        "plt.xlabel('epoch')\n",
        "plt.ylabel('loss')\n",
        "plt.legend(['Train','Validation'],loc='upper left')\n",
        "plt.show()"
      ],
      "execution_count": 119,
      "outputs": [
        {
          "output_type": "display_data",
          "data": {
            "image/png": "[encoded data removed]",
            "text/plain": [
              "<Figure size 432x288 with 1 Axes>"
            ]
          },
          "metadata": {
            "tags": [],
            "needs_background": "light"
          }
        },
        {
          "output_type": "display_data",
          "data": {
            "image/png": "[encoded data removed]",
            "text/plain": [
              "<Figure size 432x288 with 1 Axes>"
            ]
          },
          "metadata": {
            "tags": [],
            "needs_background": "light"
          }
        }
      ]
    },
    {
      "cell_type": "code",
      "metadata": {
        "id": "fHoNqlDvvmw5"
      },
      "source": [
        "prediction=np.round(model.predict(X_test))"
      ],
      "execution_count": 120,
      "outputs": []
    },
    {
      "cell_type": "code",
      "metadata": {
        "id": "i-2ExlmDwwnd"
      },
      "source": [
        "from sklearn.metrics import accuracy_score, confusion_matrix"
      ],
      "execution_count": 121,
      "outputs": []
    },
    {
      "cell_type": "code",
      "metadata": {
        "colab": {
          "base_uri": "https://localhost:8080/"
        },
        "id": "-dDi-LwTw6li",
        "outputId": "52abe7f1-6bb9-45f8-f177-68adb66cbebe"
      },
      "source": [
        "accuracy_score(y_test,prediction)"
      ],
      "execution_count": 122,
      "outputs": [
        {
          "output_type": "execute_result",
          "data": {
            "text/plain": [
              "0.7933333333333333"
            ]
          },
          "metadata": {
            "tags": []
          },
          "execution_count": 122
        }
      ]
    },
    {
      "cell_type": "code",
      "metadata": {
        "colab": {
          "base_uri": "https://localhost:8080/"
        },
        "id": "X1YqulzKxMD5",
        "outputId": "e6ecb215-ff2e-4f26-b1c5-fe84885feb7a"
      },
      "source": [
        "confusion_matrix(y_test,prediction)"
      ],
      "execution_count": 123,
      "outputs": [
        {
          "output_type": "execute_result",
          "data": {
            "text/plain": [
              "array([[2380,    0],\n",
              "       [ 620,    0]])"
            ]
          },
          "metadata": {
            "tags": []
          },
          "execution_count": 123
        }
      ]
    },
    {
      "cell_type": "code",
      "metadata": {
        "id": "YQA-y4Ond1Ib"
      },
      "source": [
        "from sklearn.metrics import classification_report"
      ],
      "execution_count": 124,
      "outputs": []
    },
    {
      "cell_type": "code",
      "metadata": {
        "colab": {
          "base_uri": "https://localhost:8080/"
        },
        "id": "d82LGcMTehBP",
        "outputId": "ab269f31-ec36-4ec7-f417-cabc7c174527"
      },
      "source": [
        "print(classification_report(y_test,prediction))"
      ],
      "execution_count": 125,
      "outputs": [
        {
          "output_type": "stream",
          "text": [
            "              precision    recall  f1-score   support\n",
            "\n",
            "           0       0.79      1.00      0.88      2380\n",
            "           1       0.00      0.00      0.00       620\n",
            "\n",
            "    accuracy                           0.79      3000\n",
            "   macro avg       0.40      0.50      0.44      3000\n",
            "weighted avg       0.63      0.79      0.70      3000\n",
            "\n"
          ],
          "name": "stdout"
        },
        {
          "output_type": "stream",
          "text": [
            "/usr/local/lib/python3.7/dist-packages/sklearn/metrics/_classification.py:1272: UndefinedMetricWarning: Precision and F-score are ill-defined and being set to 0.0 in labels with no predicted samples. Use `zero_division` parameter to control this behavior.\n",
            "  _warn_prf(average, modifier, msg_start, len(result))\n"
          ],
          "name": "stderr"
        }
      ]
    },
    {
      "cell_type": "markdown",
      "metadata": {
        "id": "5z3mvp3ltNFn"
      },
      "source": [
        "# Improvements\n",
        "1. Add in class weight to handle imbalance\n",
        "2. Increase units in dense layers and also increase number of layers\n",
        "3. Add BatchNormalization to layers.\n",
        "4. Add Dropout to layers"
      ]
    },
    {
      "cell_type": "code",
      "metadata": {
        "id": "AmUK6sGBtCyr"
      },
      "source": [
        "from sklearn.utils.class_weight import compute_class_weight"
      ],
      "execution_count": 126,
      "outputs": []
    },
    {
      "cell_type": "code",
      "metadata": {
        "colab": {
          "base_uri": "https://localhost:8080/"
        },
        "id": "yuN6rCH_P6EM",
        "outputId": "26a7e3aa-a613-4742-c33b-5e23722e2673"
      },
      "source": [
        "class_weights=compute_class_weight(class_weight='balanced',classes=np.unique(y_train), y=y_train)\n",
        "class_weights"
      ],
      "execution_count": 127,
      "outputs": [
        {
          "output_type": "execute_result",
          "data": {
            "text/plain": [
              "array([0.6269031 , 2.47000706])"
            ]
          },
          "metadata": {
            "tags": []
          },
          "execution_count": 127
        }
      ]
    },
    {
      "cell_type": "code",
      "metadata": {
        "colab": {
          "base_uri": "https://localhost:8080/"
        },
        "id": "VCtpWXdsQXQh",
        "outputId": "1eff09e5-305b-466d-886b-5c7e9e3d157f"
      },
      "source": [
        "class_weights={i:k for i,k in enumerate(class_weights)}\n",
        "class_weights"
      ],
      "execution_count": 128,
      "outputs": [
        {
          "output_type": "execute_result",
          "data": {
            "text/plain": [
              "{0: 0.6269030986924593, 1: 2.4700070571630204}"
            ]
          },
          "metadata": {
            "tags": []
          },
          "execution_count": 128
        }
      ]
    },
    {
      "cell_type": "code",
      "metadata": {
        "colab": {
          "base_uri": "https://localhost:8080/"
        },
        "id": "_GwEJ9Z6SX7Z",
        "outputId": "6fe40fe3-c9f3-4913-fd74-dd1c1cd93777"
      },
      "source": [
        "from tensorflow.keras.layers import Dense,Dropout,Activation,BatchNormalization\n",
        "model2=Sequential()\n",
        "model2.add(tensorflow.keras.layers.InputLayer(input_shape=(10,)))\n",
        "model2.add(BatchNormalization())\n",
        "model2.add(Dense(128,activation='relu'))\n",
        "model2.add(Dropout(0.3))\n",
        "model2.add(BatchNormalization())\n",
        "model2.add(Dense(64,activation='relu'))\n",
        "model2.add(Dropout(0.3))\n",
        "model2.add(BatchNormalization())\n",
        "model2.add(Dense(32,activation='relu'))\n",
        "model2.add(Dense(1,activation='sigmoid'))\n",
        "\n",
        "model2.summary()"
      ],
      "execution_count": 129,
      "outputs": [
        {
          "output_type": "stream",
          "text": [
            "Model: \"sequential_5\"\n",
            "_________________________________________________________________\n",
            "Layer (type)                 Output Shape              Param #   \n",
            "=================================================================\n",
            "batch_normalization_6 (Batch (None, 10)                40        \n",
            "_________________________________________________________________\n",
            "dense_14 (Dense)             (None, 128)               1408      \n",
            "_________________________________________________________________\n",
            "dropout_4 (Dropout)          (None, 128)               0         \n",
            "_________________________________________________________________\n",
            "batch_normalization_7 (Batch (None, 128)               512       \n",
            "_________________________________________________________________\n",
            "dense_15 (Dense)             (None, 64)                8256      \n",
            "_________________________________________________________________\n",
            "dropout_5 (Dropout)          (None, 64)                0         \n",
            "_________________________________________________________________\n",
            "batch_normalization_8 (Batch (None, 64)                256       \n",
            "_________________________________________________________________\n",
            "dense_16 (Dense)             (None, 32)                2080      \n",
            "_________________________________________________________________\n",
            "dense_17 (Dense)             (None, 1)                 33        \n",
            "=================================================================\n",
            "Total params: 12,585\n",
            "Trainable params: 12,181\n",
            "Non-trainable params: 404\n",
            "_________________________________________________________________\n"
          ],
          "name": "stdout"
        }
      ]
    },
    {
      "cell_type": "code",
      "metadata": {
        "id": "46s23qNhcKT-"
      },
      "source": [
        "model2.compile(optimizer='adam', loss='binary_crossentropy', metrics=['accuracy'])"
      ],
      "execution_count": 130,
      "outputs": []
    },
    {
      "cell_type": "code",
      "metadata": {
        "colab": {
          "base_uri": "https://localhost:8080/"
        },
        "id": "8wrBjF0OcQfR",
        "outputId": "9d5db2f9-969b-4cd5-8efa-79e0ae132998"
      },
      "source": [
        "history2=model2.fit(X_train,y_train,validation_data=(X_test,y_test),epochs=20,class_weight=class_weights)"
      ],
      "execution_count": 131,
      "outputs": [
        {
          "output_type": "stream",
          "text": [
            "Epoch 1/20\n",
            "219/219 [==============================] - 2s 4ms/step - loss: 0.6684 - accuracy: 0.6999 - val_loss: 0.7386 - val_accuracy: 0.4867\n",
            "Epoch 2/20\n",
            "219/219 [==============================] - 1s 3ms/step - loss: 0.5777 - accuracy: 0.7004 - val_loss: 0.6367 - val_accuracy: 0.6483\n",
            "Epoch 3/20\n",
            "219/219 [==============================] - 1s 3ms/step - loss: 0.5576 - accuracy: 0.7127 - val_loss: 0.5785 - val_accuracy: 0.6867\n",
            "Epoch 4/20\n",
            "219/219 [==============================] - 1s 3ms/step - loss: 0.5413 - accuracy: 0.7206 - val_loss: 0.5707 - val_accuracy: 0.6780\n",
            "Epoch 5/20\n",
            "219/219 [==============================] - 1s 3ms/step - loss: 0.5199 - accuracy: 0.7304 - val_loss: 0.5264 - val_accuracy: 0.7250\n",
            "Epoch 6/20\n",
            "219/219 [==============================] - 1s 3ms/step - loss: 0.5061 - accuracy: 0.7446 - val_loss: 0.5095 - val_accuracy: 0.7253\n",
            "Epoch 7/20\n",
            "219/219 [==============================] - 1s 3ms/step - loss: 0.5104 - accuracy: 0.7406 - val_loss: 0.5339 - val_accuracy: 0.7120\n",
            "Epoch 8/20\n",
            "219/219 [==============================] - 1s 4ms/step - loss: 0.4994 - accuracy: 0.7400 - val_loss: 0.4946 - val_accuracy: 0.7527\n",
            "Epoch 9/20\n",
            "219/219 [==============================] - 1s 3ms/step - loss: 0.4969 - accuracy: 0.7544 - val_loss: 0.5192 - val_accuracy: 0.7350\n",
            "Epoch 10/20\n",
            "219/219 [==============================] - 1s 3ms/step - loss: 0.4980 - accuracy: 0.7570 - val_loss: 0.5137 - val_accuracy: 0.7400\n",
            "Epoch 11/20\n",
            "219/219 [==============================] - 1s 3ms/step - loss: 0.4962 - accuracy: 0.7567 - val_loss: 0.4891 - val_accuracy: 0.7607\n",
            "Epoch 12/20\n",
            "219/219 [==============================] - 1s 3ms/step - loss: 0.5013 - accuracy: 0.7524 - val_loss: 0.4845 - val_accuracy: 0.7627\n",
            "Epoch 13/20\n",
            "219/219 [==============================] - 1s 3ms/step - loss: 0.4905 - accuracy: 0.7574 - val_loss: 0.5012 - val_accuracy: 0.7557\n",
            "Epoch 14/20\n",
            "219/219 [==============================] - 1s 3ms/step - loss: 0.4870 - accuracy: 0.7636 - val_loss: 0.4885 - val_accuracy: 0.7637\n",
            "Epoch 15/20\n",
            "219/219 [==============================] - 1s 4ms/step - loss: 0.4844 - accuracy: 0.7627 - val_loss: 0.4738 - val_accuracy: 0.7697\n",
            "Epoch 16/20\n",
            "219/219 [==============================] - 1s 3ms/step - loss: 0.4854 - accuracy: 0.7646 - val_loss: 0.4876 - val_accuracy: 0.7680\n",
            "Epoch 17/20\n",
            "219/219 [==============================] - 1s 3ms/step - loss: 0.4831 - accuracy: 0.7674 - val_loss: 0.4942 - val_accuracy: 0.7603\n",
            "Epoch 18/20\n",
            "219/219 [==============================] - 1s 3ms/step - loss: 0.4751 - accuracy: 0.7717 - val_loss: 0.4752 - val_accuracy: 0.7680\n",
            "Epoch 19/20\n",
            "219/219 [==============================] - 1s 3ms/step - loss: 0.4828 - accuracy: 0.7660 - val_loss: 0.4941 - val_accuracy: 0.7577\n",
            "Epoch 20/20\n",
            "219/219 [==============================] - 1s 3ms/step - loss: 0.4798 - accuracy: 0.7619 - val_loss: 0.4714 - val_accuracy: 0.7790\n"
          ],
          "name": "stdout"
        }
      ]
    },
    {
      "cell_type": "code",
      "metadata": {
        "colab": {
          "base_uri": "https://localhost:8080/",
          "height": 573
        },
        "id": "ribaP8mictnp",
        "outputId": "966aa3f1-3324-43bf-ee18-8586af5e34cf"
      },
      "source": [
        "# Accuracy Plot\n",
        "\n",
        "plt.plot(history2.history['accuracy'])\n",
        "plt.plot(history2.history['val_accuracy'])\n",
        "plt.title('Model Accuracy')\n",
        "plt.xlabel('epoch')\n",
        "plt.ylabel('accuracy')\n",
        "plt.legend(['Train','Validation'],loc='upper left')\n",
        "plt.show()\n",
        "\n",
        "# Loss Plot\n",
        "\n",
        "plt.plot(history2.history['loss'])\n",
        "plt.plot(history2.history['val_loss'])\n",
        "plt.title('Model Loss')\n",
        "plt.xlabel('epoch')\n",
        "plt.ylabel('loss')\n",
        "plt.legend(['Train','Validation'],loc='upper left')\n",
        "plt.show()"
      ],
      "execution_count": 132,
      "outputs": [
        {
          "output_type": "display_data",
          "data": {
            "image/png": "[encoded data removed]",
            "text/plain": [
              "<Figure size 432x288 with 1 Axes>"
            ]
          },
          "metadata": {
            "tags": [],
            "needs_background": "light"
          }
        },
        {
          "output_type": "display_data",
          "data": {
            "image/png": "[encoded data removed]",
            "text/plain": [
              "<Figure size 432x288 with 1 Axes>"
            ]
          },
          "metadata": {
            "tags": [],
            "needs_background": "light"
          }
        }
      ]
    },
    {
      "cell_type": "code",
      "metadata": {
        "id": "cLpYdAD-dO0O"
      },
      "source": [
        "prediction2=np.round(model2.predict(X_test))"
      ],
      "execution_count": 133,
      "outputs": []
    },
    {
      "cell_type": "code",
      "metadata": {
        "colab": {
          "base_uri": "https://localhost:8080/"
        },
        "id": "BtKOFUtRdnCC",
        "outputId": "67ca0b6f-adff-4a4c-bcce-d65b6b80b87e"
      },
      "source": [
        "accuracy_score(y_test,prediction2)"
      ],
      "execution_count": 134,
      "outputs": [
        {
          "output_type": "execute_result",
          "data": {
            "text/plain": [
              "0.779"
            ]
          },
          "metadata": {
            "tags": []
          },
          "execution_count": 134
        }
      ]
    },
    {
      "cell_type": "code",
      "metadata": {
        "colab": {
          "base_uri": "https://localhost:8080/"
        },
        "id": "vZKv05CXdsYX",
        "outputId": "4523b211-1834-4dbc-e508-48d6996c6278"
      },
      "source": [
        "confusion_matrix(y_test,prediction2)"
      ],
      "execution_count": 135,
      "outputs": [
        {
          "output_type": "execute_result",
          "data": {
            "text/plain": [
              "array([[1856,  524],\n",
              "       [ 139,  481]])"
            ]
          },
          "metadata": {
            "tags": []
          },
          "execution_count": 135
        }
      ]
    },
    {
      "cell_type": "code",
      "metadata": {
        "colab": {
          "base_uri": "https://localhost:8080/"
        },
        "id": "g30Y5syLeRLz",
        "outputId": "cececb76-ccf2-4008-d62e-39b835c1810f"
      },
      "source": [
        "print(classification_report(y_test,prediction2))"
      ],
      "execution_count": 136,
      "outputs": [
        {
          "output_type": "stream",
          "text": [
            "              precision    recall  f1-score   support\n",
            "\n",
            "           0       0.93      0.78      0.85      2380\n",
            "           1       0.48      0.78      0.59       620\n",
            "\n",
            "    accuracy                           0.78      3000\n",
            "   macro avg       0.70      0.78      0.72      3000\n",
            "weighted avg       0.84      0.78      0.80      3000\n",
            "\n"
          ],
          "name": "stdout"
        }
      ]
    },
    {
      "cell_type": "code",
      "metadata": {
        "colab": {
          "base_uri": "https://localhost:8080/"
        },
        "id": "wyT-cdSxWCWS",
        "outputId": "e448e502-98ef-4054-fa5f-454642618279"
      },
      "source": [
        "y_test, prediction2"
      ],
      "execution_count": 137,
      "outputs": [
        {
          "output_type": "execute_result",
          "data": {
            "text/plain": [
              "(937     0\n",
              " 9355    0\n",
              " 2293    1\n",
              " 192     0\n",
              " 8675    0\n",
              "        ..\n",
              " 4964    1\n",
              " 8978    0\n",
              " 7540    0\n",
              " 5275    0\n",
              " 9654    0\n",
              " Name: Exited, Length: 3000, dtype: int64, array([[1.],\n",
              "        [1.],\n",
              "        [1.],\n",
              "        ...,\n",
              "        [1.],\n",
              "        [0.],\n",
              "        [0.]], dtype=float32))"
            ]
          },
          "metadata": {
            "tags": []
          },
          "execution_count": 137
        }
      ]
    },
    {
      "cell_type": "code",
      "metadata": {
        "colab": {
          "base_uri": "https://localhost:8080/"
        },
        "id": "LIihUs8sWM-s",
        "outputId": "4504230a-9414-40bf-db73-69e897c8dfdd"
      },
      "source": [
        "y_test, prediction"
      ],
      "execution_count": 138,
      "outputs": [
        {
          "output_type": "execute_result",
          "data": {
            "text/plain": [
              "(937     0\n",
              " 9355    0\n",
              " 2293    1\n",
              " 192     0\n",
              " 8675    0\n",
              "        ..\n",
              " 4964    1\n",
              " 8978    0\n",
              " 7540    0\n",
              " 5275    0\n",
              " 9654    0\n",
              " Name: Exited, Length: 3000, dtype: int64, array([[0.],\n",
              "        [0.],\n",
              "        [0.],\n",
              "        ...,\n",
              "        [0.],\n",
              "        [0.],\n",
              "        [0.]], dtype=float32))"
            ]
          },
          "metadata": {
            "tags": []
          },
          "execution_count": 138
        }
      ]
    },
    {
      "cell_type": "code",
      "metadata": {
        "id": "jyRl16tOeW3S"
      },
      "source": [
        ""
      ],
      "execution_count": 138,
      "outputs": []
    },
    {
      "cell_type": "code",
      "metadata": {
        "id": "05Gf7CAoUzOS"
      },
      "source": [
        ""
      ],
      "execution_count": 138,
      "outputs": []
    }
  ]
}